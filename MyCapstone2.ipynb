{
 "cells": [
  {
   "cell_type": "markdown",
   "metadata": {
    "collapsed": true
   },
   "source": [
    "#Great Piano Service\n",
    "\n",
    "##Larry Davis Piano Service\n",
    "\n",
    "###Product Overview\n",
    "\n",
    "My proposal is to create a new business web site for servicing pianos. \n",
    "The site will introduce my bio, service history and  my business philosophy. I will include my business mission and what drives me to want to provide service to my customer. Goals and Values of providing professional and quality service\n",
    "\n",
    "MVP: My minimal viable product (MVP) will be the following services: A440 Tuning, Pitch Adjustments, Regulations and Repair, Links to learn more about the benefits piano upkeep. Providing information for my clients on proper upkeep of their piano's. \n",
    "\n",
    "I will also partner with other piano technicians to provide substitute  service to my clients when I am not available  \n",
    "\n",
    "\n",
    "for existing clients to request piano services and to review past services on their pianos. \n",
    "\n",
    "Front-Loaded Decisions:\n",
    "TBD\n",
    "\n",
    "####Specific Functionality:\n",
    "Spend some time drawing out on paper mockups of every page of your MVP site. Annotate every component of the interface every action the user can take.\n",
    "\n",
    "There will be a select number of pages with various functions necessary for providing pertinent customer services\n",
    "Pages: Services  About   Contact etc\n",
    "\n",
    "####Data Model:\n",
    "The persistent nouns \"data\" needed across pages will be:\n",
    " Customer Personal Information,\n",
    "\t(Name, address, phone, email). \n",
    "Customer's Piano information \n",
    "\t(make, model, last time service, type of service required/requested). \n",
    "\n",
    "#####Input fields will include:\n",
    "\t*Request for service:\n",
    "\t*Client contact information\n",
    "\t**Name\n",
    "\t**Address\n",
    "\t**Email \n",
    "\t**Phone\n",
    "\t**Links on piano care information\n",
    "\n",
    "####Technical Components\n",
    "What are the \"moving parts\" of your MVP? What are the things like \"modules\" you're going to write? How do they talk to each other?\n",
    "Modules: \n",
    "\n",
    "\n",
    "Schedule\n",
    "\n",
    "####Further Work\n",
    "Here you should outline other features you'd like to implement if you get \"done\" early. Order them by importance towards your high-level goal and what order you'll work on them later.\n",
    "\n",
    "TBD\n",
    "\n",
    "\n",
    "####Submission\n",
    "Create a new git repo based on your project name in GitHub. Init that repository with a readme. Write up your proposal as proposal.md and link to it from the readme. I don't care that you learn all of the fancy parts of writing Markdown documentation, but just get some basic sections that follow the rubric above.\n",
    "Email me the URL to your capstone repo on GitHub before the proposal is due.\n"
   ]
  }
 ],
 "metadata": {
  "kernelspec": {
   "display_name": "Python 2",
   "language": "python",
   "name": "python2"
  },
  "language_info": {
   "codemirror_mode": {
    "name": "ipython",
    "version": 2.0
   },
   "file_extension": ".py",
   "mimetype": "text/x-python",
   "name": "python",
   "nbconvert_exporter": "python",
   "pygments_lexer": "ipython2",
   "version": "2.7.6"
  }
 },
 "nbformat": 4,
 "nbformat_minor": 0
}